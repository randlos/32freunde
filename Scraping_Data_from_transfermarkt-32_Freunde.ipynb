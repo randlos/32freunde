{
 "cells": [
  {
   "cell_type": "code",
   "execution_count": null,
   "metadata": {
    "collapsed": true,
    "deletable": true,
    "editable": true
   },
   "outputs": [],
   "source": [
    "import requests, json\n",
    "from lxml import html\n",
    "from ast import literal_eval\n",
    "import re\n",
    "import pandas as pd\n",
    "import numpy as np\n",
    "import datetime\n",
    "from pandas.io.json import json_normalize\n",
    "from collections import Counter\n",
    "from flatten_json import flatten\n",
    "#from bs4 import BeautifulSoup as bs"
   ]
  },
  {
   "cell_type": "markdown",
   "metadata": {
    "deletable": true,
    "editable": true
   },
   "source": [
    "# Aktuelle Daten"
   ]
  },
  {
   "cell_type": "markdown",
   "metadata": {
    "deletable": true,
    "editable": true
   },
   "source": [
    "# Wolrdcup.sfg.io Data API"
   ]
  },
  {
   "cell_type": "code",
   "execution_count": null,
   "metadata": {
    "collapsed": true,
    "deletable": true,
    "editable": true
   },
   "outputs": [],
   "source": [
    "r_wc = requests.get(\"http://worldcup.sfg.io/matches\")"
   ]
  },
  {
   "cell_type": "code",
   "execution_count": null,
   "metadata": {
    "collapsed": true,
    "deletable": true,
    "editable": true
   },
   "outputs": [],
   "source": [
    "r_wc_json = r_wc.json()"
   ]
  },
  {
   "cell_type": "code",
   "execution_count": null,
   "metadata": {
    "collapsed": true,
    "deletable": true,
    "editable": true
   },
   "outputs": [],
   "source": [
    "#r_wc_json"
   ]
  },
  {
   "cell_type": "code",
   "execution_count": null,
   "metadata": {
    "collapsed": true,
    "deletable": true,
    "editable": true
   },
   "outputs": [],
   "source": [
    "data =json_normalize(r_wc_json)"
   ]
  },
  {
   "cell_type": "code",
   "execution_count": null,
   "metadata": {
    "collapsed": true,
    "deletable": true,
    "editable": true
   },
   "outputs": [],
   "source": [
    "#data[data['away_team.country'] == \"France\"]"
   ]
  },
  {
   "cell_type": "code",
   "execution_count": null,
   "metadata": {
    "collapsed": true,
    "deletable": true,
    "editable": true
   },
   "outputs": [],
   "source": [
    "#data"
   ]
  },
  {
   "cell_type": "code",
   "execution_count": null,
   "metadata": {
    "collapsed": true,
    "deletable": true,
    "editable": true
   },
   "outputs": [],
   "source": [
    "#data.groupby(['away_team.country']).sum()"
   ]
  },
  {
   "cell_type": "markdown",
   "metadata": {
    "deletable": true,
    "editable": true
   },
   "source": [
    "foo = df.ix[(df['column1']==value) | (df['columns2'] == 'b') | (df['column3'] == 'c')]"
   ]
  },
  {
   "cell_type": "markdown",
   "metadata": {
    "deletable": true,
    "editable": true
   },
   "source": [
    "# Teams"
   ]
  },
  {
   "cell_type": "code",
   "execution_count": null,
   "metadata": {
    "collapsed": true,
    "deletable": true,
    "editable": true
   },
   "outputs": [],
   "source": [
    "teams = ['Argentina', 'Australia', 'Belgium', 'Brazil', 'Colombia', 'Costa Rica', 'Croatia', 'Denmark', 'Egypt', 'England', 'France', 'Germany', 'Iceland', 'Iran', 'Japan','Korea Republic', 'Mexico', 'Morocco', 'Nigeria', 'Panama', 'Peru', 'Poland', 'Portugal', 'Russia', 'Saudi Arabia', 'Senegal', 'Serbia', 'Spain', 'Sweden', 'Switzerland', 'Tunisia', 'Uruguay']"
   ]
  },
  {
   "cell_type": "code",
   "execution_count": null,
   "metadata": {
    "collapsed": true,
    "deletable": true,
    "editable": true
   },
   "outputs": [],
   "source": [
    "#r_wc_json[0]"
   ]
  },
  {
   "cell_type": "code",
   "execution_count": null,
   "metadata": {
    "collapsed": false,
    "deletable": true,
    "editable": true
   },
   "outputs": [],
   "source": [
    "data = []\n",
    "data_dict = {}\n",
    "for idx, games in enumerate(r_wc_json):   \n",
    "    for idx, facts in games.items():\n",
    "        if idx == \"home_team_country\":\n",
    "            data_dict['Heimteam'] = facts\n",
    "        if idx == \"away_team_country\":\n",
    "            data_dict['Auswärtsteam'] = facts\n",
    "        if idx == \"venue\":\n",
    "            data_dict[\"Spielort\"] = facts"
   ]
  },
  {
   "cell_type": "code",
   "execution_count": null,
   "metadata": {
    "collapsed": true,
    "deletable": true,
    "editable": true
   },
   "outputs": [],
   "source": [
    "france_data = data.ix[(data['home_team_country'] == \"France\") | (data['away_team_country'] == \"France\") ]"
   ]
  },
  {
   "cell_type": "code",
   "execution_count": null,
   "metadata": {
    "collapsed": false,
    "deletable": true,
    "editable": true
   },
   "outputs": [],
   "source": [
    "#france_data"
   ]
  },
  {
   "cell_type": "code",
   "execution_count": null,
   "metadata": {
    "collapsed": false,
    "deletable": true,
    "editable": true
   },
   "outputs": [],
   "source": [
    "team_data = {}\n",
    "for team in teams:\n",
    "    #print(team)\n",
    "    team_data[team] = data.ix[(data['home_team_country'] == team) | (data['away_team_country'] == team)]\n",
    "    #print(team_data)\n",
    "    break"
   ]
  },
  {
   "cell_type": "code",
   "execution_count": null,
   "metadata": {
    "collapsed": true,
    "deletable": true,
    "editable": true
   },
   "outputs": [],
   "source": [
    "#pd.DataFrame(team_data)"
   ]
  },
  {
   "cell_type": "code",
   "execution_count": null,
   "metadata": {
    "collapsed": true,
    "deletable": true,
    "editable": true
   },
   "outputs": [],
   "source": [
    "france_data = data.ix[(data['home_team_country'] == \"France\") | (data['away_team_country'] == \"France\") ]"
   ]
  },
  {
   "cell_type": "code",
   "execution_count": null,
   "metadata": {
    "collapsed": false,
    "deletable": true,
    "editable": true
   },
   "outputs": [],
   "source": [
    "france_data['team'] = \"Frankreich\""
   ]
  },
  {
   "cell_type": "code",
   "execution_count": null,
   "metadata": {
    "collapsed": true,
    "deletable": true,
    "editable": true
   },
   "outputs": [],
   "source": [
    "uru_data = data.ix[(data['home_team_country'] == \"Uruguay\") | (data['away_team_country'] == \"Uruguay\") ]"
   ]
  },
  {
   "cell_type": "markdown",
   "metadata": {},
   "source": [
    "# Urugauy vs. Frankreich"
   ]
  },
  {
   "cell_type": "code",
   "execution_count": null,
   "metadata": {
    "collapsed": false,
    "deletable": true,
    "editable": true
   },
   "outputs": [],
   "source": [
    "uru_data"
   ]
  },
  {
   "cell_type": "code",
   "execution_count": null,
   "metadata": {
    "collapsed": false,
    "deletable": true,
    "editable": true
   },
   "outputs": [],
   "source": [
    "france_data"
   ]
  },
  {
   "cell_type": "code",
   "execution_count": null,
   "metadata": {
    "collapsed": false,
    "deletable": true,
    "editable": true
   },
   "outputs": [],
   "source": [
    "data.columns"
   ]
  },
  {
   "cell_type": "code",
   "execution_count": null,
   "metadata": {
    "collapsed": true,
    "deletable": true,
    "editable": true
   },
   "outputs": [],
   "source": [
    "france_pass = france_data['away_team_statistics.num_passes'] + france_data['home_team_statistics.num_passes']"
   ]
  },
  {
   "cell_type": "code",
   "execution_count": null,
   "metadata": {
    "collapsed": true,
    "deletable": true,
    "editable": true
   },
   "outputs": [],
   "source": [
    "france_pass_genauigkeit = (france_data['away_team_statistics.pass_accuracy'] + france_data['home_team_statistics.pass_accuracy']) / 2"
   ]
  },
  {
   "cell_type": "code",
   "execution_count": null,
   "metadata": {
    "collapsed": true,
    "deletable": true,
    "editable": true
   },
   "outputs": [],
   "source": [
    "uru_pass = uru_data['away_team_statistics.num_passes'] + uru_data['home_team_statistics.num_passes']"
   ]
  },
  {
   "cell_type": "code",
   "execution_count": null,
   "metadata": {
    "collapsed": true,
    "deletable": true,
    "editable": true
   },
   "outputs": [],
   "source": [
    "uru_pass_genauigkeit = (uru_data['away_team_statistics.pass_accuracy'] + uru_data['home_team_statistics.pass_accuracy']) / 2"
   ]
  },
  {
   "cell_type": "code",
   "execution_count": null,
   "metadata": {
    "collapsed": false,
    "deletable": true,
    "editable": true
   },
   "outputs": [],
   "source": []
  },
  {
   "cell_type": "code",
   "execution_count": null,
   "metadata": {
    "collapsed": false,
    "deletable": true,
    "editable": true
   },
   "outputs": [],
   "source": [
    "france_data.mean()"
   ]
  },
  {
   "cell_type": "code",
   "execution_count": null,
   "metadata": {
    "collapsed": true,
    "deletable": true,
    "editable": true
   },
   "outputs": [],
   "source": [
    "fouls = data[['home_team_country', 'away_team_country', 'away_team_statistics.fouls_committed', 'home_team_statistics.fouls_committed']]"
   ]
  },
  {
   "cell_type": "code",
   "execution_count": null,
   "metadata": {
    "collapsed": false,
    "deletable": true,
    "editable": true
   },
   "outputs": [],
   "source": [
    "fouls.home_team_country['Russia']"
   ]
  },
  {
   "cell_type": "code",
   "execution_count": null,
   "metadata": {
    "collapsed": false,
    "deletable": true,
    "editable": true
   },
   "outputs": [],
   "source": [
    "fouls['away_team_statistics.fouls_committed'].sum()"
   ]
  },
  {
   "cell_type": "code",
   "execution_count": null,
   "metadata": {
    "collapsed": false,
    "deletable": true,
    "editable": true
   },
   "outputs": [],
   "source": [
    "fouls['home_team_statistics.fouls_committed'].sum()"
   ]
  },
  {
   "cell_type": "code",
   "execution_count": null,
   "metadata": {
    "collapsed": true,
    "deletable": true,
    "editable": true
   },
   "outputs": [],
   "source": [
    "events_data = data[['home_team_country', 'away_team_country', 'away_team_events', 'home_team_events']]"
   ]
  },
  {
   "cell_type": "code",
   "execution_count": null,
   "metadata": {
    "collapsed": false,
    "deletable": true,
    "editable": true
   },
   "outputs": [],
   "source": [
    "events_data['away_team_events']"
   ]
  },
  {
   "cell_type": "code",
   "execution_count": null,
   "metadata": {
    "collapsed": true,
    "deletable": true,
    "editable": true
   },
   "outputs": [],
   "source": [
    "#json_normalize(events_data, 'away_team_events')"
   ]
  },
  {
   "cell_type": "code",
   "execution_count": null,
   "metadata": {
    "collapsed": true,
    "deletable": true,
    "editable": true
   },
   "outputs": [],
   "source": []
  },
  {
   "cell_type": "code",
   "execution_count": null,
   "metadata": {
    "collapsed": true,
    "deletable": true,
    "editable": true
   },
   "outputs": [],
   "source": [
    "events_data_dict = events_data.to_dict()"
   ]
  },
  {
   "cell_type": "code",
   "execution_count": null,
   "metadata": {
    "collapsed": false,
    "deletable": true,
    "editable": true
   },
   "outputs": [],
   "source": [
    "for idx, event in events_data_dict.items():\n",
    "    print(idx)"
   ]
  },
  {
   "cell_type": "code",
   "execution_count": null,
   "metadata": {
    "collapsed": true,
    "deletable": true,
    "editable": true
   },
   "outputs": [],
   "source": []
  },
  {
   "cell_type": "code",
   "execution_count": null,
   "metadata": {
    "collapsed": true,
    "deletable": true,
    "editable": true
   },
   "outputs": [],
   "source": []
  },
  {
   "cell_type": "code",
   "execution_count": null,
   "metadata": {
    "collapsed": true,
    "deletable": true,
    "editable": true
   },
   "outputs": [],
   "source": [
    "#events = pd.DataFrame(events_flatten)"
   ]
  },
  {
   "cell_type": "code",
   "execution_count": null,
   "metadata": {
    "collapsed": true,
    "deletable": true,
    "editable": true
   },
   "outputs": [],
   "source": [
    "cards_data = data[['home_team_country', 'away_team_country', 'home_team_statistics.yellow_cards', 'home_team_statistics.red_cards', 'away_team_statistics.yellow_cards', 'away_team_statistics.red_cards', ]]"
   ]
  },
  {
   "cell_type": "code",
   "execution_count": null,
   "metadata": {
    "collapsed": false,
    "deletable": true,
    "editable": true
   },
   "outputs": [],
   "source": [
    "cards_data"
   ]
  },
  {
   "cell_type": "code",
   "execution_count": null,
   "metadata": {
    "collapsed": true,
    "deletable": true,
    "editable": true
   },
   "outputs": [],
   "source": []
  },
  {
   "cell_type": "code",
   "execution_count": null,
   "metadata": {
    "collapsed": true,
    "deletable": true,
    "editable": true
   },
   "outputs": [],
   "source": []
  },
  {
   "cell_type": "code",
   "execution_count": null,
   "metadata": {
    "collapsed": false,
    "deletable": true,
    "editable": true
   },
   "outputs": [],
   "source": [
    "data.groupby([\"winner\"])"
   ]
  },
  {
   "cell_type": "code",
   "execution_count": null,
   "metadata": {
    "collapsed": true,
    "deletable": true,
    "editable": true
   },
   "outputs": [],
   "source": [
    "data.to_csv(\"new_Data_statistics.csv\")"
   ]
  },
  {
   "cell_type": "code",
   "execution_count": null,
   "metadata": {
    "collapsed": true,
    "deletable": true,
    "editable": true
   },
   "outputs": [],
   "source": []
  },
  {
   "cell_type": "code",
   "execution_count": null,
   "metadata": {
    "collapsed": true,
    "deletable": true,
    "editable": true
   },
   "outputs": [],
   "source": [
    "dic_flattened = (flatten(d) for d in data['away_team_events'])"
   ]
  },
  {
   "cell_type": "code",
   "execution_count": null,
   "metadata": {
    "collapsed": false,
    "deletable": true,
    "editable": true
   },
   "outputs": [],
   "source": [
    "dic_flattend"
   ]
  },
  {
   "cell_type": "code",
   "execution_count": null,
   "metadata": {
    "collapsed": false,
    "deletable": true,
    "editable": true
   },
   "outputs": [],
   "source": [
    "flatten(data['away_team_events'])"
   ]
  },
  {
   "cell_type": "code",
   "execution_count": null,
   "metadata": {
    "collapsed": true,
    "deletable": true,
    "editable": true
   },
   "outputs": [],
   "source": [
    "#away_team = json_normalize(data['away_team_events'])"
   ]
  },
  {
   "cell_type": "code",
   "execution_count": null,
   "metadata": {
    "collapsed": true,
    "deletable": true,
    "editable": true
   },
   "outputs": [],
   "source": []
  },
  {
   "cell_type": "code",
   "execution_count": null,
   "metadata": {
    "collapsed": true,
    "deletable": true,
    "editable": true
   },
   "outputs": [],
   "source": []
  },
  {
   "cell_type": "code",
   "execution_count": null,
   "metadata": {
    "collapsed": true,
    "deletable": true,
    "editable": true
   },
   "outputs": [],
   "source": []
  },
  {
   "cell_type": "code",
   "execution_count": null,
   "metadata": {
    "collapsed": true,
    "deletable": true,
    "editable": true
   },
   "outputs": [],
   "source": []
  },
  {
   "cell_type": "code",
   "execution_count": null,
   "metadata": {
    "collapsed": true,
    "deletable": true,
    "editable": true
   },
   "outputs": [],
   "source": [
    "#r_wc_json[:5]['away_team_events']"
   ]
  },
  {
   "cell_type": "code",
   "execution_count": null,
   "metadata": {
    "collapsed": false,
    "deletable": true,
    "editable": true
   },
   "outputs": [],
   "source": [
    "flatten(r_wc_json)"
   ]
  },
  {
   "cell_type": "code",
   "execution_count": null,
   "metadata": {
    "collapsed": true,
    "deletable": true,
    "editable": true
   },
   "outputs": [],
   "source": [
    "#data = json_normalize(r_wc_json,'away_team_events',record_prefix=True)"
   ]
  },
  {
   "cell_type": "code",
   "execution_count": null,
   "metadata": {
    "collapsed": false,
    "deletable": true,
    "editable": true
   },
   "outputs": [],
   "source": [
    "facts = {}\n",
    "for idx, item in enumerate(r_wc_json):\n",
    "    facts[\"Heimteam\"] = item['home_team_country']\n",
    "    facts[\"Auswärtsteam\"] = item['away_team_country']\n",
    "    aktionen_auswaerts_team = item['away_team_events']\n",
    "    for item in aktionen_auswaerts_team:\n",
    "        #if item['type_of_event'] == \"yello-card\":\n",
    "        print(item)\n",
    "        #print(item)\n",
    "    #print(facts)\n",
    "    #print(facts)\n",
    "    #item['away_team_events']"
   ]
  },
  {
   "cell_type": "code",
   "execution_count": null,
   "metadata": {
    "collapsed": true,
    "deletable": true,
    "editable": true
   },
   "outputs": [],
   "source": [
    "karten_data = []\n",
    "data = []\n",
    "for match in r_wc_json:\n",
    "    karten = {}\n",
    "    auswaertsteam = match['away_team_country']\n",
    "    heimteam = match['home_team_country']\n",
    "    data.append(match)"
   ]
  },
  {
   "cell_type": "code",
   "execution_count": null,
   "metadata": {
    "collapsed": true,
    "deletable": true,
    "editable": true
   },
   "outputs": [],
   "source": [
    "dic_flattend = (flatten(d) for d in data)"
   ]
  },
  {
   "cell_type": "code",
   "execution_count": null,
   "metadata": {
    "collapsed": true,
    "deletable": true,
    "editable": true
   },
   "outputs": [],
   "source": [
    "testdf = pd.DataFrame(dic_flattend)"
   ]
  },
  {
   "cell_type": "code",
   "execution_count": null,
   "metadata": {
    "collapsed": false,
    "deletable": true,
    "editable": true
   },
   "outputs": [],
   "source": [
    "testdf.iloc[0]"
   ]
  },
  {
   "cell_type": "code",
   "execution_count": null,
   "metadata": {
    "collapsed": false,
    "deletable": true,
    "editable": true
   },
   "outputs": [],
   "source": [
    "karten_data = []\n",
    "data = []\n",
    "for match in r_wc_json:\n",
    "    karten = {}\n",
    "    auswaertsteam = match['away_team_country']\n",
    "    heimteam = match['home_team_country']\n",
    "    data.append(match)\n",
    "    for item in data:\n",
    "        print(item)\n",
    "    break\n",
    "    #print(match)\n",
    "    #break\n",
    "    for idx, fact in match.items():\n",
    "        #print(idx, \": \", fact)\n",
    "        karten[idx] = fact\n",
    "        data.append(karten)\n",
    "        if idx == 'away_team_events':      \n",
    "            for item in fact:\n",
    "                #karten = {}\n",
    "                for idx, item in item.items():\n",
    "                    karten['Heimteam'] = heimteam\n",
    "                    karten['Auswärtsteam'] = auswaertsteam\n",
    "                    karten[idx] = item\n",
    "                    #print(karten)\n",
    "                karten_data.append(karten)\n",
    "                #print(karten)\n",
    "                break\n",
    "                karten = {}\n",
    "            #data.append(karten_data)\n",
    "        if idx == 'home_team_events':      \n",
    "            for item in fact:\n",
    "                karten = {}\n",
    "                for idx, item in item.items():\n",
    "                    karten['Heimteam'] = heimteam\n",
    "                    karten['Auswärtsteam'] = auswaertsteam\n",
    "                    karten[idx] = item\n",
    "                    karten_data.append(karten)\n",
    "                    karten = {}\n",
    "            #data.append(karten_data)\n",
    "                    \n",
    "                    #print(karten)\n",
    "                #karten['Aktion'] = item  \n",
    "                #print(type(item))\n",
    "            #print(karten[idx])\n",
    "    break\n",
    "    #print (karten)\n"
   ]
  },
  {
   "cell_type": "code",
   "execution_count": null,
   "metadata": {
    "collapsed": true,
    "deletable": true,
    "editable": true
   },
   "outputs": [],
   "source": [
    "testdf = pd.DataFrame.from_dict(data)"
   ]
  },
  {
   "cell_type": "code",
   "execution_count": null,
   "metadata": {
    "collapsed": false,
    "deletable": true,
    "editable": true
   },
   "outputs": [],
   "source": [
    "testdf"
   ]
  },
  {
   "cell_type": "code",
   "execution_count": null,
   "metadata": {
    "collapsed": false,
    "deletable": true,
    "editable": true
   },
   "outputs": [],
   "source": [
    "karten_data = []\n",
    "for idx, items in testdf['away_team_events'].items():\n",
    "    karten = {}\n",
    "    auswaertsteam = match['away_team_country']\n",
    "    heimteam = match['home_team_country']\n",
    "    for item in items:\n",
    "        karten['Heimteam'] = heimteam\n",
    "        karten['Auswärtsteam'] = auswaertsteam\n",
    "        karten['Aktion'] = item['type_of_event']\n",
    "        karten['Zeit'] = item['time']\n",
    "        karten['Spieler'] = item['player']\n",
    "        print(item)\n",
    "        #print(karten)\n",
    "    #karten_data.append(karten)    \n",
    "#print(karten_data)"
   ]
  },
  {
   "cell_type": "code",
   "execution_count": null,
   "metadata": {
    "collapsed": true,
    "deletable": true,
    "editable": true
   },
   "outputs": [],
   "source": [
    "#r_dict = flatten(r_wc_json)"
   ]
  },
  {
   "cell_type": "code",
   "execution_count": null,
   "metadata": {
    "collapsed": true,
    "deletable": true,
    "editable": true
   },
   "outputs": [],
   "source": [
    "#data['away_team_events']"
   ]
  },
  {
   "cell_type": "code",
   "execution_count": null,
   "metadata": {
    "collapsed": true,
    "deletable": true,
    "editable": true
   },
   "outputs": [],
   "source": [
    "#json_normalize(data)"
   ]
  },
  {
   "cell_type": "code",
   "execution_count": null,
   "metadata": {
    "collapsed": true,
    "deletable": true,
    "editable": true
   },
   "outputs": [],
   "source": [
    "gamedata = {\n",
    "    \"Spielort\":\"\",\n",
    "    \"Heimteam\":\"\",\n",
    "    \"Auswärtsteam\":\"\",\n",
    "    \"Spieldaten_Auswärtsteam\": \"\",\n",
    "    \"gelbe_Karte\":\"\"\n",
    "}\n",
    "wc_data = ()\n",
    "karten_data = []"
   ]
  },
  {
   "cell_type": "markdown",
   "metadata": {
    "deletable": true,
    "editable": true
   },
   "source": [
    "'away_team_events': [{'id': 12,\n",
    "    'player': 'FAHAD ALMUWALLAD',\n",
    "    'time': \"64'\",\n",
    "    'type_of_event': 'substitution-in'},\n",
    "   {'id': 325,\n",
    "    'player': 'ABDULLAH OTAYF',\n",
    "    'time': \"64'\",\n",
    "    'type_of_event': 'substitution-out'},\n",
    "   {'id': 10,\n",
    "    'player': 'HATAN BAHBIR',\n",
    "    'time': \"72'\",\n",
    "    'type_of_event': 'substitution-in'},\n",
    "   {'id': 323,\n",
    "    'player': 'YAHIA ALSHEHRI',\n",
    "    'time': \"72'\",\n",
    "    'type_of_event': 'substitution-out'},\n",
    "   {'id': 326,\n",
    "    'player': 'HATAN BAHBRI',\n",
    "    'time': \"72'\",\n",
    "    'type_of_event': 'substitution-in'},\n",
    "   {'id': 13,\n",
    "    'player': 'MUHANNAD ASIRI',\n",
    "    'time': \"85'\",\n",
    "    'type_of_event': 'substitution-in'},\n",
    "   {'id': 324,\n",
    "    'player': 'MOHAMMED ALSAHLAWI',\n",
    "    'time': \"85'\",\n",
    "    'type_of_event': 'substitution-out'},\n",
    "   {'id': 11,\n",
    "    'player': 'TAISEER ALJASSAM',\n",
    "    'time': \"90'+3'\",\n",
    "    'type_of_event': 'yellow-card'}]"
   ]
  },
  {
   "cell_type": "code",
   "execution_count": null,
   "metadata": {
    "collapsed": true,
    "deletable": true,
    "editable": true
   },
   "outputs": [],
   "source": [
    "#r_wc_json"
   ]
  },
  {
   "cell_type": "code",
   "execution_count": null,
   "metadata": {
    "collapsed": false,
    "deletable": true,
    "editable": true
   },
   "outputs": [],
   "source": [
    "karten_data"
   ]
  },
  {
   "cell_type": "code",
   "execution_count": null,
   "metadata": {
    "collapsed": false,
    "deletable": true,
    "editable": true
   },
   "outputs": [],
   "source": [
    "karten_data = []\n",
    "for match in r_wc_json:\n",
    "    karten = {}\n",
    "    auswaertsteam = match['away_team_country']\n",
    "    heimteam = match['home_team_country']\n",
    "    \n",
    "    for idx, fact in match.items():\n",
    "        print (fact)\n",
    "        if type(fact) is list:\n",
    "            print(fact[3])\n",
    "            for idx, game in fact[0].items():\n",
    "                #print(game)\n",
    "                karten[idx] = game\n",
    "            karten_data.append(karten)\n",
    "            print(karten_data)\n",
    "        elif type(fact) is dict:\n",
    "            karten[idx] = fact\n",
    "            #print(karten)\n",
    "            karten_data.append(karten)\n",
    "        else:\n",
    "            karten[idx] = fact\n",
    "            karten_data.append(karten)\n",
    "        \n",
    "    break\n",
    "    \n",
    "    \n",
    "        #print(fact)\n",
    "            \n",
    "        \n",
    "        #for idx, game in fact.items():\n",
    "        #    karten[idx] = game\n",
    "  \n",
    "    \n",
    "    \n",
    "    \n",
    "    #print(karten)\n",
    "    \n",
    "\n",
    "       # if fact['type_of_event'] == \"red-card\":\n",
    "         #   for idx, game in fact.items():\n",
    "        #        karten[idx] = game    \n",
    "           \n",
    "    #for facty in match['home_team_events']:\n",
    "        #print(fact)\n",
    "        \n",
    "        #karten['Auswärtsteam'] = auswaertsteam\n",
    "        #karten['Heimteam'] = heimteam\n",
    "        \n",
    "    #    if fact['type_of_event'] == \"yellow-card\":\n",
    "    #        for idx, game in fact.items():\n",
    "      #          karten[idx] = game\n",
    "\n",
    "   # karten_data.append(karten)\n",
    "    #print(karten)\n",
    "    \n",
    "\n",
    "            \n",
    "            \n",
    "            \n",
    "            #print(karten_data)          \n",
    "            #if fact['type_of_event'] == \"red-card\":\n",
    "            #karten['Spieler'] = fact['player']\n",
    "            #karten['Karte'] = \"rot\"\n",
    "            #karten['Zeit_im_Spiel'] = fact['time']\n",
    "            #karten_data.append(karten"
   ]
  },
  {
   "cell_type": "code",
   "execution_count": null,
   "metadata": {
    "collapsed": true,
    "deletable": true,
    "editable": true
   },
   "outputs": [],
   "source": [
    "testdf = pd.DataFrame.from_dict(karten_data)"
   ]
  },
  {
   "cell_type": "code",
   "execution_count": null,
   "metadata": {
    "collapsed": true,
    "deletable": true,
    "editable": true
   },
   "outputs": [],
   "source": [
    "gelb_pdkarten_data = pd.DataFrame.from_dict(karten_data)"
   ]
  },
  {
   "cell_type": "markdown",
   "metadata": {
    "deletable": true,
    "editable": true
   },
   "source": [
    "# Fußballdaten Scraper"
   ]
  },
  {
   "cell_type": "markdown",
   "metadata": {
    "deletable": true,
    "editable": true
   },
   "source": [
    "Tore xpath: //div[@class=\"box-live-aktionen-momentum\"]/div[@data-original-title]"
   ]
  },
  {
   "cell_type": "markdown",
   "metadata": {
    "deletable": true,
    "editable": true
   },
   "source": [
    "Teamsites example: https://www.fussballdaten.de/wm/2018/gruppenphase/a/russland-saudiarabien/"
   ]
  },
  {
   "cell_type": "markdown",
   "metadata": {
    "deletable": true,
    "editable": true
   },
   "source": [
    "Links Spiele Ergebnisse xpath: //td[@class=\"ergebnis\"]/a/@href"
   ]
  },
  {
   "cell_type": "code",
   "execution_count": null,
   "metadata": {
    "collapsed": true,
    "deletable": true,
    "editable": true
   },
   "outputs": [],
   "source": [
    "base_link = \"https://www.fussballdaten.de/wm/2018/gruppenphase\""
   ]
  },
  {
   "cell_type": "code",
   "execution_count": null,
   "metadata": {
    "collapsed": true,
    "deletable": true,
    "editable": true
   },
   "outputs": [],
   "source": [
    "homepage = \"https://www.fussballdaten.de\""
   ]
  },
  {
   "cell_type": "code",
   "execution_count": null,
   "metadata": {
    "collapsed": true,
    "deletable": true,
    "editable": true
   },
   "outputs": [],
   "source": [
    "group_links = list(\"abcdefgh\")"
   ]
  },
  {
   "cell_type": "code",
   "execution_count": null,
   "metadata": {
    "collapsed": true,
    "deletable": true,
    "editable": true
   },
   "outputs": [],
   "source": [
    "teams = pd.read_excel(\"teams_wm.xlsx\")"
   ]
  },
  {
   "cell_type": "code",
   "execution_count": null,
   "metadata": {
    "collapsed": true,
    "deletable": true,
    "editable": true
   },
   "outputs": [],
   "source": [
    "teilnehmer = teams.Teams.values.tolist()"
   ]
  },
  {
   "cell_type": "code",
   "execution_count": null,
   "metadata": {
    "collapsed": true,
    "deletable": true,
    "editable": true
   },
   "outputs": [],
   "source": [
    "r_fb_data = requests.get(base_link)"
   ]
  },
  {
   "cell_type": "code",
   "execution_count": null,
   "metadata": {
    "collapsed": true,
    "deletable": true,
    "editable": true
   },
   "outputs": [],
   "source": [
    "r_fb_data_content = html.fromstring(r_fb_data.text)"
   ]
  },
  {
   "cell_type": "code",
   "execution_count": null,
   "metadata": {
    "collapsed": true,
    "deletable": true,
    "editable": true
   },
   "outputs": [],
   "source": [
    "links_to_games = r_fb_data_content.xpath('//td[@class=\"ergebnis\"]/a/@href')"
   ]
  },
  {
   "cell_type": "code",
   "execution_count": null,
   "metadata": {
    "collapsed": true,
    "deletable": true,
    "editable": true
   },
   "outputs": [],
   "source": [
    "links_to_results = []\n",
    "for link in links_to_games:\n",
    "    links_to_results.append(homepage + link)"
   ]
  },
  {
   "cell_type": "code",
   "execution_count": null,
   "metadata": {
    "collapsed": true,
    "deletable": true,
    "editable": true
   },
   "outputs": [],
   "source": [
    "game_results = list\n",
    "for link in links_to_results:\n",
    "    r_fb_data_results = requests.get(link)\n",
    "    r_fb_data_results_content = html.fromstring(r_fb_data_results.text)\n",
    "    for match in r_fb_data_results_content:\n",
    "        print(type(match))\n",
    "    #game_results.append(r_fb_data_results_content.xpath('//div[@class=\"box-live-aktionen-momentum\"]/div[@data-original-title]'))"
   ]
  },
  {
   "cell_type": "code",
   "execution_count": null,
   "metadata": {
    "collapsed": true,
    "deletable": true,
    "editable": true
   },
   "outputs": [],
   "source": []
  },
  {
   "cell_type": "markdown",
   "metadata": {
    "deletable": true,
    "editable": true
   },
   "source": [
    "## Haupt-URLs"
   ]
  },
  {
   "cell_type": "code",
   "execution_count": null,
   "metadata": {
    "collapsed": true,
    "deletable": true,
    "editable": true
   },
   "outputs": [],
   "source": [
    "BASE_URL = \"https://www.transfermarkt.de\"\n",
    "#WM_URL = \"https://www.transfermarkt.de/wm-2018/startseite/pokalwettbewerb/WM18\"\n",
    "WM_URL_2018 = 'https://www.transfermarkt.de/weltmeisterschaft-2018/teilnehmer/pokalwettbewerb/WM18/saison_id/2017'\n",
    "WM_URL_2014 = \"https://www.transfermarkt.de/wm-2014/startseite/pokalwettbewerb/WM14\"\n",
    "WM_URL_2010 = \"https://www.transfermarkt.de/wm-2010/startseite/pokalwettbewerb/WM10\"\n",
    "#WM_URLS = [WM_URL_2010, WM_URL_2014, WM_URL]\n",
    "HEADERS = {'User-Agent': 'Mozilla/5.0'}"
   ]
  },
  {
   "cell_type": "code",
   "execution_count": null,
   "metadata": {
    "collapsed": true,
    "deletable": true,
    "editable": true
   },
   "outputs": [],
   "source": [
    "r = requests.get(WM_URL_2018, headers=HEADERS)"
   ]
  },
  {
   "cell_type": "code",
   "execution_count": null,
   "metadata": {
    "collapsed": true,
    "deletable": true,
    "editable": true
   },
   "outputs": [],
   "source": [
    "content = html.fromstring(r.text)"
   ]
  },
  {
   "cell_type": "markdown",
   "metadata": {
    "deletable": true,
    "editable": true
   },
   "source": [
    "## Teams-XPath"
   ]
  },
  {
   "cell_type": "code",
   "execution_count": null,
   "metadata": {
    "collapsed": true,
    "deletable": true,
    "editable": true
   },
   "outputs": [],
   "source": [
    "WM_Teilnehmer_2018 = '//div[@id=\"yw1\" or @id=\"yw2\"]/table[@class=\"items\"]/tbody/tr/td[2]/a/text()'\n",
    "WM_Teilnehmer_2018_Links = '//div[@id=\"yw1\" or @id=\"yw2\"]/table[@class=\"items\"]/tbody/tr/td[2]/a/@href'"
   ]
  },
  {
   "cell_type": "code",
   "execution_count": null,
   "metadata": {
    "collapsed": true,
    "deletable": true,
    "editable": true
   },
   "outputs": [],
   "source": [
    "Teams_Namen = content.xpath(WM_Teilnehmer_2018)"
   ]
  },
  {
   "cell_type": "code",
   "execution_count": null,
   "metadata": {
    "collapsed": true,
    "deletable": true,
    "editable": true
   },
   "outputs": [],
   "source": [
    "#Teams_Namen = pd.read_excel(\"teams_wm.xlsx\")"
   ]
  },
  {
   "cell_type": "code",
   "execution_count": null,
   "metadata": {
    "collapsed": true,
    "deletable": true,
    "editable": true
   },
   "outputs": [],
   "source": [
    "#Teams_Namen = Teams_Namen.Teams.values.tolist()"
   ]
  },
  {
   "cell_type": "code",
   "execution_count": null,
   "metadata": {
    "collapsed": true,
    "deletable": true,
    "editable": true
   },
   "outputs": [],
   "source": [
    "#Teams_Namen"
   ]
  },
  {
   "cell_type": "code",
   "execution_count": null,
   "metadata": {
    "collapsed": true,
    "deletable": true,
    "editable": true
   },
   "outputs": [],
   "source": [
    "Teams_URL = content.xpath(WM_Teilnehmer_2018_Links)"
   ]
  },
  {
   "cell_type": "code",
   "execution_count": null,
   "metadata": {
    "collapsed": true,
    "deletable": true,
    "editable": true
   },
   "outputs": [],
   "source": [
    "urls = []\n",
    "for url in Teams_URL:\n",
    "    urls.append(BASE_URL+url)"
   ]
  },
  {
   "cell_type": "code",
   "execution_count": null,
   "metadata": {
    "collapsed": true,
    "deletable": true,
    "editable": true
   },
   "outputs": [],
   "source": [
    "Team_Sites = dict(zip(Teams_Namen, urls))"
   ]
  },
  {
   "cell_type": "code",
   "execution_count": null,
   "metadata": {
    "collapsed": false,
    "deletable": true,
    "editable": true
   },
   "outputs": [],
   "source": [
    "Team_Sites"
   ]
  },
  {
   "cell_type": "code",
   "execution_count": null,
   "metadata": {
    "collapsed": true,
    "deletable": true,
    "editable": true
   },
   "outputs": [],
   "source": [
    "team_namen_list = list(Team_Sites.keys())"
   ]
  },
  {
   "cell_type": "markdown",
   "metadata": {
    "deletable": true,
    "editable": true
   },
   "source": [
    "_________"
   ]
  },
  {
   "cell_type": "code",
   "execution_count": null,
   "metadata": {
    "collapsed": true,
    "deletable": true,
    "editable": true
   },
   "outputs": [],
   "source": [
    "#team_namen_list = pd.read_excel(\"teams_wm.xlsx\")"
   ]
  },
  {
   "cell_type": "code",
   "execution_count": null,
   "metadata": {
    "collapsed": true,
    "deletable": true,
    "editable": true
   },
   "outputs": [],
   "source": [
    "#team_namen_list = team_namen_list.Teams.values.tolist()"
   ]
  },
  {
   "cell_type": "markdown",
   "metadata": {
    "deletable": true,
    "editable": true
   },
   "source": [
    "## Spieler Content"
   ]
  },
  {
   "cell_type": "code",
   "execution_count": null,
   "metadata": {
    "collapsed": true,
    "deletable": true,
    "editable": true
   },
   "outputs": [],
   "source": [
    "def marktwert_int(marktwert_string):\n",
    "    #Spieler_Marktwert_int = []\n",
    "    mio = \"0000\"\n",
    "    tsd = \"000\"\n",
    "    \n",
    "    if marktwert_string == \"\\xa0\":\n",
    "        marktwert_int = 0\n",
    "    if marktwert_string == \"-\\xa0\":\n",
    "        marktwert_int = 0\n",
    "    else:\n",
    "        if \"Mio\" in marktwert_string:\n",
    "            raw_plus_comma = re.sub('.([A-Z]).*', mio, marktwert_string)\n",
    "            marktwert_int =  int(re.sub(',', \"\", raw_plus_comma))\n",
    "        elif \"Tsd\" in marktwert_string:\n",
    "            raw_plus_comma = re.sub('.([A-Z]).*', tsd, marktwert_string)\n",
    "            marktwert_int = int(re.sub(',', \"\", raw_plus_comma))\n",
    "        elif \"€\" in marktwert_string:\n",
    "            marktwert_int = int(re.sub('[,€]', \"\", marktwert_string))\n",
    "        else:\n",
    "            marktwert_int = int(re.sub(\",\", \"\", marktwert_string))\n",
    "    \n",
    "\n",
    "    return marktwert_int"
   ]
  },
  {
   "cell_type": "code",
   "execution_count": null,
   "metadata": {
    "collapsed": true,
    "deletable": true,
    "editable": true
   },
   "outputs": [],
   "source": [
    "def ager(birthday_age):\n",
    "    pattern = \"(?<=\\()(.*?)(?=\\s*\\))\"\n",
    "    match = re.search(pattern, birthday_age)\n",
    "    #print(match.group(0))\n",
    "    return match.group(0)\n",
    "#print(ager(\"01.05.1982 (36)\"))"
   ]
  },
  {
   "cell_type": "code",
   "execution_count": null,
   "metadata": {
    "collapsed": true,
    "deletable": true,
    "editable": true
   },
   "outputs": [],
   "source": [
    "def multiply(value, counting_list):\n",
    "    list = []\n",
    "    for x in enumerate(counting_list):\n",
    "        list.append(value)\n",
    "        #print(value)\n",
    "    return list"
   ]
  },
  {
   "cell_type": "code",
   "execution_count": null,
   "metadata": {
    "collapsed": false,
    "deletable": true,
    "editable": true
   },
   "outputs": [],
   "source": [
    "teams = []\n",
    "spieler = pd.DataFrame()\n",
    "\n",
    "i = 0\n",
    "\n",
    "\n",
    "for land, url in Team_Sites.items():\n",
    "    teams.append(land)\n",
    "    \n",
    "    pattern_url_plus = 'startseite'\n",
    "    url_plus = re.sub(pattern_url_plus, 'kader', url)\n",
    "    url_plus = url_plus + \"/saison_id/2018/plus/1\"    \n",
    "    print(url_plus)\n",
    "    \n",
    "    \n",
    "    r = requests.get(url, headers=HEADERS)\n",
    "    land_html_text = r.text\n",
    "    content = html.fromstring(land_html_text)\n",
    "    \n",
    "    if teams[i] == land:\n",
    "        spieler_list_complete = ()\n",
    "        player_team_name_tuple = ()\n",
    "        player_liga_name_tuple = ()\n",
    "        player_laenderspiele_tuple = ()\n",
    "        player_laenderspiele_tore_tuple = ()\n",
    "        player_laenderspiele_debut_tuple = ()\n",
    "        player_laenderspiele_vorlagen_tuple = ()\n",
    "        player_laenderspiele_zeit_tuple = ()\n",
    "        player_groesse_tuple = ()\n",
    "        player_spielfuß_tuple = ()\n",
    "        wm18_einsätze_tuple = ()\n",
    "        wm18_tore_tuple = ()\n",
    "        wm18_vorlagen_tuple = ()\n",
    "        wm18_gespielte_minuten_tuple = ()\n",
    "        \n",
    "              \n",
    "        markt_list = content.xpath('//*[@id=\"yw1\"]/table/tbody/tr/td[6]/text()')     \n",
    "        birthday_list = content.xpath('//*[@id=\"yw1\"]/table/tbody/tr/td[4]/text()')\n",
    "        name_list = content.xpath('//*[@id=\"yw1\"]/table/tbody/tr//td[1]/a/img/@alt')\n",
    "        weltrangliste = \"\".join(content.xpath('//a[@title=\"Weltrangliste\"]/text()'))\n",
    "        weltrangliste = weltrangliste.strip()\n",
    "        \n",
    "        land_list = multiply(teams[i], name_list)\n",
    "        weltrangliste = multiply(weltrangliste, name_list)\n",
    "             \n",
    "        spieler_link_list = content.xpath('//*[@id=\"yw1\"]/table/tbody/tr//td[@class=\"hauptlink\"]//span[@class=\"hide-for-small\"]/a/@href')\n",
    "\n",
    "        for links in spieler_link_list:\n",
    "            link = BASE_URL + links\n",
    "            player_R = requests.get(link, headers=HEADERS)\n",
    "            player_page = player_R.text\n",
    "            player_content = html.fromstring(player_page)\n",
    "            #print(player_content)\n",
    "            \n",
    "            \n",
    "            player_team_name = player_content.xpath('//div[@class=\"dataZusatzImage\"]/a/img/@alt')#//div[@class=\"dataZusatzImage\"]/a/img/@alt') #//a[@id=\"131\"][1]/img/@alt')\n",
    "            player_liga_name = player_content.xpath('//div[@class=\"dataZusatzDaten\"]/span[@class=\"mediumpunkt\"]/a/img[1]/@title') #//div[@class=\"dataZusatzDaten\"]/span[@class=\"mediumpunkt\"]/a/img[1]/@title') # //div[@class=\"dataZusatzbox\"]//span[@class=\"mediumpunkt\"]/a/img[1]/@title')\n",
    "            player_laenderspiele = player_content.xpath('//div[@class=\"box\"]/table/tbody/tr[2]/td[5]/a/text()')\n",
    "            player_laenderspiele_tore = player_content.xpath('//div[@class=\"box\"]/table/tbody/tr[2]/td[6]/a/text()')\n",
    "            player_laenderspiele_debut = player_content.xpath('//div[@class=\"box\"]/table/tbody/tr[2]/td[4]/a/text()')\n",
    "            player_laenderspiele_vorlagen = player_content.xpath('//*[@id=\"yw1\"]/table/tfoot/tr/td[5]/text()')\n",
    "            player_laenderspiele_zeit = player_content.xpath('//*[@id=\"yw1\"]/table/tfoot/tr/td[last()]/text()')\n",
    "            player_groesse = player_content.xpath('//div[@class=\"dataContent\"]/div/div[@class=\"dataDaten\"][2]/p[1]/span[2]/text()')\n",
    "            \n",
    "            #print(player_groesse)\n",
    "            #break #//div[@class=\"dataContent\"]/div/div[@class=\"dataDaten\"]/p/span[@itemprop=\"height\"]/text()\n",
    "            #print(player_laenderspiele_zeit)\n",
    "            #print(player_laenderspiele_tore, \":\", links, player_laenderspiele_debut, player_laenderspiele_vorlagen)\n",
    "            player_team_name = ''.join(player_team_name)\n",
    "            player_liga_name = ''.join(player_liga_name)\n",
    "            player_laenderspiele = ''.join(player_laenderspiele)\n",
    "            player_laenderspiele_tore = ''.join(player_laenderspiele_tore)\n",
    "            player_laenderspiele_debut = ''.join(player_laenderspiele_debut)\n",
    "            player_laenderspiele_vorlagen =  ''.join(player_laenderspiele_vorlagen)\n",
    "            player_laenderspiele_zeit = ''.join(player_laenderspiele_zeit)\n",
    "            player_groesse = ''.join(player_groesse)\n",
    "            \n",
    "            #print(player_liga_name, \" : \", player_team_name)\n",
    "            player_team_name_tuple = player_team_name_tuple + (player_team_name, )\n",
    "            #player_team_name_list.append(player_team_name)\n",
    "            player_liga_name_tuple = player_liga_name_tuple + (player_liga_name, )\n",
    "            player_laenderspiele_tuple = player_laenderspiele_tuple + (player_laenderspiele, )\n",
    "            player_groesse_tuple = player_groesse_tuple + (player_groesse, )\n",
    "               \n",
    "            player_laenderspiele_tore_tuple = player_laenderspiele_tore_tuple + (player_laenderspiele_tore, )\n",
    "\n",
    "            player_laenderspiele_debut_tuple = player_laenderspiele_debut_tuple + (player_laenderspiele_debut, )\n",
    "\n",
    "            player_laenderspiele_vorlagen_tuple = player_laenderspiele_vorlagen_tuple + (player_laenderspiele_vorlagen, )\n",
    "         \n",
    "            player_laenderspiele_zeit_tuple = player_laenderspiele_zeit_tuple + (player_laenderspiele_zeit, )\n",
    "            \n",
    "            \n",
    "            links = BASE_URL + links\n",
    "            links = links.replace(\"nationalmannschaft\", \"profil\")\n",
    "            spieler_list_complete = spieler_list_complete + (links, )\n",
    "            #print(links)\n",
    "            \n",
    "            #print(\"Länderspielzeit: \" + player_laenderspiele_zeit, \"Länderspiel Vorlagen: \" + player_laenderspiele_vorlagen, \"Größe: \" + player_groesse)\n",
    "            \n",
    "            #print(len(player_team_name_list), len(player_laenderspiele_list))\n",
    "        \n",
    "        #print(spieler_list_complete)\n",
    "        \n",
    "        player_position = []\n",
    "        spieler_position = content.xpath('//*[@id=\"yw1\"]/table/tbody/tr/td/table[@class=\"inline-table\"]//tr[2]/td/text()')\n",
    "               \n",
    "        \n",
    "        for player in spieler_position:\n",
    "            if player == \"Torwart\":\n",
    "                player = \"green\"\n",
    "                player_position.append(player)\n",
    "            elif player == \"Innenverteidiger\" or player == \"Linker Verteidiger\" or player == \"Rechter Verteidiger\":\n",
    "                player = \"yellow\"\n",
    "                player_position.append(player)\n",
    "            elif player == \"Defensives Mittelfeld\" or player == \"Zentrales Mittelfeld\" or player == \"Offensives Mittelfeld\" or player == \"Rechtes Mittelfeld\" or player == \"Linkes Mittelfeld\":\n",
    "                player = \"blue\"\n",
    "                player_position.append(player)\n",
    "            elif player == \"Linksaußen\" or player == \"Rechtsaußen\" or player == \"Mittelstürmer\" or player ==\"Hängende Spitze\":\n",
    "                player = \"red\"\n",
    "                player_position.append(player)\n",
    "            else:\n",
    "                player = \"white\"\n",
    "                player_position.append(player)\n",
    "                \n",
    "                \n",
    "                \n",
    "        for playerlink in spieler_list_complete:\n",
    "            player_link_R = requests.get(playerlink, headers=HEADERS)\n",
    "            player_link_page = player_link_R.text\n",
    "            player_link_content = html.fromstring(player_link_page) \n",
    "            #print(playerlink)\n",
    "            \n",
    "            spielfuß = player_link_content.xpath('//table[@class=\"auflistung\"]//tr/th[contains(.,\"Fuß:\")]/following-sibling::td/text()')\n",
    "            spielfuß = \"\".join(spielfuß)\n",
    "            #print(spielfuß)\n",
    "            if spielfuß == \"beidfüßig\" or spielfuß == \"rechts\" or spielfuß == \"links\":\n",
    "                player_spielfuß_tuple = player_spielfuß_tuple + (spielfuß, )\n",
    "            else:\n",
    "                player_spielfuß_tuple = player_spielfuß_tuple + (0, )\n",
    "            #print(player_spielfuß_tuple)\n",
    "            \n",
    "            wm18_einsätze = player_link_content.xpath('//div[@class=\"large-3 small-6 columns fact\"][1]/a/span[@class=\"number\"]/text()')\n",
    "            wm18_tore = player_link_content.xpath('//div[@class=\"large-3 small-6 columns fact\"][2]/a/span[@class=\"number\"]/text()')\n",
    "            wm18_vorlagen = player_link_content.xpath('//div[@class=\"large-3 small-6 columns fact\"][3]/a/span[@class=\"number\"]/text()')\n",
    "            wm18_gespielte_minuten = player_link_content.xpath('//div[@class=\"large-3 small-6 columns fact\"][3]/a/span[@class=\"number\"]/text()')\n",
    "            \n",
    "            wm18_einsätze = \"\".join(wm18_einsätze)\n",
    "            wm18_einsätze_tuple = wm18_einsätze_tuple + (wm18_einsätze, )\n",
    "                        \n",
    "            wm18_tore = \"\".join(wm18_tore)\n",
    "            wm18_tore_tuple = wm18_tore_tuple + (wm18_tore, )\n",
    "            \n",
    "            wm18_vorlagen = \"\".join(wm18_vorlagen)\n",
    "            wm18_vorlagen_tuple = wm18_vorlagen_tuple + (wm18_vorlagen, )\n",
    "            \n",
    "            wm18_gespielte_minuten = \"\".join(wm18_gespielte_minuten)\n",
    "            wm18_gespielte_minuten_tuple = wm18_gespielte_minuten_tuple + (wm18_gespielte_minuten, )\n",
    "            \n",
    "          \n",
    "        #//table[@class=\"auflistung\"]//tr[8]/td/text()\n",
    "        \n",
    "        \n",
    "        data = {\n",
    "                'Land': land_list, \n",
    "                'Spieler_Name': name_list, \n",
    "                'Birthday_Age': birthday_list, \n",
    "                'Marktwert': markt_list, \n",
    "                'Spielposition': player_position, \n",
    "                \"Links\": spieler_list_complete, \n",
    "                \"Verein\": player_team_name_tuple, \n",
    "                \"Liga\": player_liga_name_tuple, \n",
    "                \"Länderspiele\": player_laenderspiele_tuple, \n",
    "                \"Länderspieltore\": player_laenderspiele_tore_tuple, \n",
    "                \"Länderspielvorlagen\": player_laenderspiele_vorlagen_tuple, \n",
    "                \"Länderspiel_zeit\": player_laenderspiele_zeit_tuple, \n",
    "                \"Länderspiel_Debut\": player_laenderspiele_debut_tuple, \n",
    "                \"Größe\": player_groesse_tuple,\n",
    "                \"Weltrangliste\": weltrangliste,\n",
    "                \"Spielfuß\": player_spielfuß_tuple\n",
    "               }\n",
    "\n",
    "        \n",
    "        #for index, dat in data.items():\n",
    "        #    print(index, len(dat))\n",
    "        \n",
    "        #print(data['WM18_Tore'], data['Links'])\n",
    "        #print(data)\n",
    "        #break\n",
    "        mannschaft_df = pd.DataFrame.from_dict(data)\n",
    "        spieler = spieler.append(mannschaft_df)\n",
    "        \n",
    "    \n",
    "    i = i + 1"
   ]
  },
  {
   "cell_type": "code",
   "execution_count": null,
   "metadata": {
    "collapsed": true,
    "deletable": true,
    "editable": true
   },
   "outputs": [],
   "source": [
    "spieler.Marktwert = spieler.Marktwert.apply(lambda x: marktwert_int(x))\n",
    "spieler['Länderspiele'] = spieler[\"Länderspiele\"].replace('-', 0)\n",
    "spieler.Länderspiele = spieler.Länderspiele.astype(int)\n",
    "spieler.Länderspiel_zeit = spieler.Länderspiel_zeit.apply(lambda x: x.replace(\".\", \"\"))\n",
    "spieler.Länderspiel_zeit = spieler.Länderspiel_zeit.apply(lambda x: x.replace(\"'\", \"\"))\n",
    "spieler.Länderspiel_zeit = spieler.Länderspiel_zeit.apply(lambda x: x.replace(\"-\", \"0\"))\n",
    "spieler.Länderspiel_zeit = spieler.Länderspiel_zeit.astype(int)\n",
    "\n",
    "spieler.Länderspieltore = spieler.Länderspieltore.apply(lambda x: x.replace(\"-\", \"0\"))\n",
    "spieler.Länderspieltore = spieler.Länderspieltore.astype(int)\n",
    "\n",
    "spieler.Länderspielvorlagen = spieler.Länderspielvorlagen.apply(lambda x: x.replace(\"-\", \"0\"))\n",
    "spieler.Länderspielvorlagen = spieler.Länderspielvorlagen.astype(int)\n",
    "\n",
    "spieler.Größe = spieler.Größe.apply(lambda x: x.replace(' m', ''))\n",
    "spieler.Größe = spieler.Größe.apply(lambda x: x.replace(',', ''))\n",
    "spieler.Größe = spieler.Größe.astype(int)\n",
    "\n",
    "spieler.Länderspiel_Debut = spieler.Länderspiel_Debut.apply(lambda x: datetime.datetime.now() if x == \"\" else x)\n",
    "spieler['Jahre_NM'] = spieler.Länderspiel_Debut.apply(lambda x: datetime.datetime.today() - x)\n",
    "\n",
    "spieler.Weltrangliste = spieler.Weltrangliste.apply(lambda x: x.replace(\". Platz\", \"\"))"
   ]
  },
  {
   "cell_type": "code",
   "execution_count": null,
   "metadata": {
    "collapsed": true,
    "deletable": true,
    "editable": true
   },
   "outputs": [],
   "source": [
    "#spieler.index.tolist()"
   ]
  },
  {
   "cell_type": "code",
   "execution_count": null,
   "metadata": {
    "collapsed": true,
    "deletable": true,
    "editable": true
   },
   "outputs": [],
   "source": [
    "spieler.to_csv('Alle_WM_Teams_2018_juli_6_viertelfinal_mit_Fuessen.csv')"
   ]
  },
  {
   "cell_type": "code",
   "execution_count": null,
   "metadata": {
    "collapsed": false,
    "deletable": true,
    "editable": true
   },
   "outputs": [],
   "source": [
    "spieler"
   ]
  },
  {
   "cell_type": "code",
   "execution_count": null,
   "metadata": {
    "collapsed": true,
    "deletable": true,
    "editable": true
   },
   "outputs": [],
   "source": []
  },
  {
   "cell_type": "markdown",
   "metadata": {
    "deletable": true,
    "editable": true
   },
   "source": [
    "_____"
   ]
  },
  {
   "cell_type": "code",
   "execution_count": null,
   "metadata": {
    "collapsed": true,
    "deletable": true,
    "editable": true
   },
   "outputs": [],
   "source": [
    "run Scripts_32_Freunde.py"
   ]
  },
  {
   "cell_type": "code",
   "execution_count": null,
   "metadata": {
    "collapsed": false,
    "deletable": true,
    "editable": true
   },
   "outputs": [],
   "source": [
    "spieler.Marktwert.mean()"
   ]
  },
  {
   "cell_type": "code",
   "execution_count": null,
   "metadata": {
    "collapsed": true,
    "deletable": true,
    "editable": true
   },
   "outputs": [],
   "source": [
    "spieler.Weltrangliste = spieler.Weltrangliste.astype(int)"
   ]
  },
  {
   "cell_type": "code",
   "execution_count": null,
   "metadata": {
    "collapsed": false,
    "deletable": true,
    "editable": true
   },
   "outputs": [],
   "source": [
    "spieler.Weltrangliste.mean()"
   ]
  },
  {
   "cell_type": "code",
   "execution_count": null,
   "metadata": {
    "collapsed": true,
    "deletable": true,
    "editable": true
   },
   "outputs": [],
   "source": [
    "ylabel = np.arange(-spieler.Weltrangliste.max() + round(spieler.Weltrangliste.mean(), 0), spieler.Weltrangliste.max() - round(spieler.Weltrangliste.mean()))"
   ]
  },
  {
   "cell_type": "code",
   "execution_count": null,
   "metadata": {
    "collapsed": true,
    "deletable": true,
    "editable": true
   },
   "outputs": [],
   "source": []
  },
  {
   "cell_type": "code",
   "execution_count": null,
   "metadata": {
    "collapsed": true,
    "deletable": true,
    "editable": true
   },
   "outputs": [],
   "source": [
    "fig = plt.figure(figsize=(15, 15))\n",
    "plt.scatter(spieler['Marktwert'], spieler['Weltrangliste'], s=spieler['Marktwert']/100000, c=spieler['Spielposition'], marker='o', norm=0.9)\n",
    "plt.yticks(ylabel)\n",
    "fig.savefig(\"ScatterPlot_all_Teams.svg\")"
   ]
  },
  {
   "cell_type": "code",
   "execution_count": null,
   "metadata": {
    "collapsed": false,
    "deletable": true,
    "editable": true
   },
   "outputs": [],
   "source": [
    "plt.show()"
   ]
  },
  {
   "cell_type": "code",
   "execution_count": null,
   "metadata": {
    "collapsed": true,
    "deletable": true,
    "editable": true
   },
   "outputs": [],
   "source": []
  }
 ],
 "metadata": {
  "kernelspec": {
   "display_name": "Python 3",
   "language": "python",
   "name": "python3"
  },
  "language_info": {
   "codemirror_mode": {
    "name": "ipython",
    "version": 3
   },
   "file_extension": ".py",
   "mimetype": "text/x-python",
   "name": "python",
   "nbconvert_exporter": "python",
   "pygments_lexer": "ipython3",
   "version": "3.6.0"
  }
 },
 "nbformat": 4,
 "nbformat_minor": 2
}
